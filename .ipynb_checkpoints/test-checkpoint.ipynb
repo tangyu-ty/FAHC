{
 "cells": [
  {
   "cell_type": "code",
   "execution_count": 1,
   "metadata": {},
   "outputs": [
    {
     "name": "stderr",
     "output_type": "stream",
     "text": [
      "usage: ipykernel_launcher.py [-h] [--lr LR] [--batch BATCH] [--leaky LEAKY]\n",
      "                             [--tstBat TSTBAT] [--reg REG]\n",
      "                             [--reg_loss2 REG_LOSS2] [--epoch EPOCH]\n",
      "                             [--latdim LATDIM] [--hyperNum HYPERNUM]\n",
      "                             [--gnn_layer GNN_LAYER] [--topk1 TOPK1]\n",
      "                             [--topk2 TOPK2] [--topk3 TOPK3]\n",
      "                             [--keepRate KEEPRATE] [--data DATA]\n",
      "                             [--tstEpoch TSTEPOCH] [--seed SEED]\n",
      "                             [--outAcc OUTACC] [--patience PATIENCE]\n",
      "                             [--hyperParamIndex HYPERPARAMINDEX]\n",
      "ipykernel_launcher.py: error: unrecognized arguments: -f C:\\Users\\laodi\\AppData\\Roaming\\jupyter\\runtime\\kernel-6ff26f18-eae1-4a97-aedb-784a8c301352.json\n"
     ]
    },
    {
     "ename": "SystemExit",
     "evalue": "2",
     "output_type": "error",
     "traceback": [
      "An exception has occurred, use %tb to see the full traceback.\n",
      "\u001b[1;31mSystemExit\u001b[0m\u001b[1;31m:\u001b[0m 2\n"
     ]
    },
    {
     "name": "stderr",
     "output_type": "stream",
     "text": [
      "D:\\miniconda3\\envs\\MyCode\\lib\\site-packages\\IPython\\core\\interactiveshell.py:3441: UserWarning: To exit: use 'exit', 'quit', or Ctrl-D.\n",
      "  warn(\"To exit: use 'exit', 'quit', or Ctrl-D.\", stacklevel=1)\n"
     ]
    }
   ],
   "source": [
    "# 这是一个示例 Python 脚本。\n",
    "from Params import args\n",
    "import torch\n",
    "from Model.MyModel import OrgModel\n",
    "from Utils.DataHandler import DataHandler\n",
    "handler = DataHandler(args.data)\n",
    "\n",
    "handler.LoadData()\n",
    "model = OrgModel()\n",
    "model = model.to(args.device)\n",
    "fileName=\"0-2023-01-11--11-20-39-checkpoint.pth\"\n",
    "checkpoint = torch.load(\"./Saved/\" + fileName)\n",
    "model=model.load_state_dict(checkpoint['model'])"
   ]
  },
  {
   "cell_type": "code",
   "execution_count": null,
   "metadata": {},
   "outputs": [],
   "source": []
  }
 ],
 "metadata": {
  "kernelspec": {
   "display_name": "Python 3 (ipykernel)",
   "language": "python",
   "name": "python3"
  },
  "language_info": {
   "codemirror_mode": {
    "name": "ipython",
    "version": 3
   },
   "file_extension": ".py",
   "mimetype": "text/x-python",
   "name": "python",
   "nbconvert_exporter": "python",
   "pygments_lexer": "ipython3",
   "version": "3.10.8"
  }
 },
 "nbformat": 4,
 "nbformat_minor": 1
}
